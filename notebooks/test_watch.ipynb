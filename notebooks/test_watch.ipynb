{
 "cells": [
  {
   "cell_type": "markdown",
   "metadata": {
    "toc": true
   },
   "source": [
    "<h1>Table of Contents<span class=\"tocSkip\"></span></h1>\n",
    "<div class=\"toc\"><ul class=\"toc-item\"><li><span><a href=\"#Test-connectivity\" data-toc-modified-id=\"Test-connectivity-1\"><span class=\"toc-item-num\">1&nbsp;&nbsp;</span>Test connectivity</a></span></li><li><span><a href=\"#Test-watching-legimens.Object\" data-toc-modified-id=\"Test-watching-legimens.Object-2\"><span class=\"toc-item-num\">2&nbsp;&nbsp;</span>Test watching legimens.Object</a></span></li><li><span><a href=\"#Changing-sys.switchinterval\" data-toc-modified-id=\"Changing-sys.switchinterval-3\"><span class=\"toc-item-num\">3&nbsp;&nbsp;</span>Changing sys.switchinterval</a></span></li><li><span><a href=\"#Simple-object-watch\" data-toc-modified-id=\"Simple-object-watch-4\"><span class=\"toc-item-num\">4&nbsp;&nbsp;</span>Simple object watch</a></span></li><li><span><a href=\"#Prettified-API\" data-toc-modified-id=\"Prettified-API-5\"><span class=\"toc-item-num\">5&nbsp;&nbsp;</span>Prettified API</a></span></li></ul></div>"
   ]
  },
  {
   "cell_type": "code",
   "execution_count": 1,
   "metadata": {
    "ExecuteTime": {
     "end_time": "2020-05-18T02:03:43.148843Z",
     "start_time": "2020-05-18T02:03:40.894673Z"
    }
   },
   "outputs": [
    {
     "name": "stdout",
     "output_type": "stream",
     "text": [
      "No module named 'bokeh'\n"
     ]
    }
   ],
   "source": [
    "from libvis import Vis\n",
    "import libvis\n",
    "import json\n",
    "import numpy as np\n",
    "\n",
    "from legimens.Object import ref\n",
    "from legimens import Object\n",
    "\n",
    "%load_ext autoreload\n",
    "%autoreload 2"
   ]
  },
  {
   "cell_type": "code",
   "execution_count": 2,
   "metadata": {
    "ExecuteTime": {
     "end_time": "2020-05-18T02:03:43.229434Z",
     "start_time": "2020-05-18T02:03:43.149956Z"
    }
   },
   "outputs": [
    {
     "name": "stdout",
     "output_type": "stream",
     "text": [
      "Starting http at 7000\n",
      "2020-05-17 21:03:43.180 | INFO     | legimens.websocket.server:start_server:33 - Starting ws server at localhost:7700\n"
     ]
    }
   ],
   "source": [
    "vis = Vis(ws_port=7700, vis_port=7000)\n",
    "vis.start()"
   ]
  },
  {
   "cell_type": "markdown",
   "metadata": {},
   "source": [
    "## Test connectivity"
   ]
  },
  {
   "cell_type": "code",
   "execution_count": 3,
   "metadata": {
    "ExecuteTime": {
     "end_time": "2020-05-18T02:03:44.116071Z",
     "start_time": "2020-05-18T02:03:44.102177Z"
    }
   },
   "outputs": [],
   "source": [
    "vis.vars.image = 1\n"
   ]
  },
  {
   "cell_type": "markdown",
   "metadata": {},
   "source": [
    "## Test watching legimens.Object\n"
   ]
  },
  {
   "cell_type": "code",
   "execution_count": 4,
   "metadata": {
    "ExecuteTime": {
     "end_time": "2020-05-15T07:02:30.689057Z",
     "start_time": "2020-05-15T07:02:30.665030Z"
    }
   },
   "outputs": [
    {
     "name": "stdout",
     "output_type": "stream",
     "text": [
      "2020-05-15 02:02:30.758 | INFO     | legimens.App:_handler:74 - New ws connection of /Legi_0x7f30399864a0 from ::1\n",
      "2020-05-15 02:02:30.765 | INFO     | legimens.App:_handle_obj_ref:105 - Yield initial update {\"x\": {\"type\": \"Object\", \"value\": 1}}\n"
     ]
    }
   ],
   "source": [
    "\n",
    "class Var(libvis.modules.BaseModule):\n",
    "    def _prepare_send(self, name, value):\n",
    "        return name, {'type':'Object','value':value}\n",
    "\n",
    "x = Var(x=1)\n",
    "vis.app.watch_obj(x)\n",
    "vis.vars.x = x"
   ]
  },
  {
   "cell_type": "code",
   "execution_count": 5,
   "metadata": {
    "ExecuteTime": {
     "end_time": "2020-05-15T07:02:34.069321Z",
     "start_time": "2020-05-15T07:02:31.879802Z"
    }
   },
   "outputs": [],
   "source": [
    "for i in range(100000000//3):\n",
    "    x['x'] = i"
   ]
  },
  {
   "cell_type": "code",
   "execution_count": null,
   "metadata": {
    "ExecuteTime": {
     "end_time": "2020-05-15T07:02:06.174425Z",
     "start_time": "2020-05-15T07:02:05.844Z"
    }
   },
   "outputs": [],
   "source": [
    "vis.app._watch_poll_delay = .1\n",
    "type(vis.app.vars)"
   ]
  },
  {
   "cell_type": "markdown",
   "metadata": {},
   "source": [
    "## Changing sys.switchinterval \n",
    "determines how often we switch between threads to send updates\n",
    "\n",
    "Try to set larger value and run previous tests"
   ]
  },
  {
   "cell_type": "code",
   "execution_count": null,
   "metadata": {
    "ExecuteTime": {
     "end_time": "2020-05-15T07:02:06.193075Z",
     "start_time": "2020-05-15T07:02:05.847Z"
    }
   },
   "outputs": [],
   "source": [
    "import sys\n",
    "sys.getswitchinterval()"
   ]
  },
  {
   "cell_type": "code",
   "execution_count": null,
   "metadata": {
    "ExecuteTime": {
     "end_time": "2020-05-15T07:02:06.194651Z",
     "start_time": "2020-05-15T07:02:05.849Z"
    }
   },
   "outputs": [],
   "source": [
    "sys.setswitchinterval(0.04)"
   ]
  },
  {
   "cell_type": "code",
   "execution_count": null,
   "metadata": {
    "ExecuteTime": {
     "end_time": "2020-05-15T07:02:06.230045Z",
     "start_time": "2020-05-15T07:02:05.851Z"
    }
   },
   "outputs": [],
   "source": [
    "vis.vars.foo=2"
   ]
  },
  {
   "cell_type": "markdown",
   "metadata": {},
   "source": [
    "## Simple object watch\n",
    "\n",
    "Note that CPython has a limitation in it's implementation of mutable objects:\n",
    "it can't create a weakref for base types.\n",
    "This is fixed for mutables in those additional classes\n",
    "\n",
    "For more info check: https://mail.python.org/pipermail/python-list/2005-March/346298.html"
   ]
  },
  {
   "cell_type": "code",
   "execution_count": 6,
   "metadata": {
    "ExecuteTime": {
     "end_time": "2020-05-15T07:02:39.524015Z",
     "start_time": "2020-05-15T07:02:39.441935Z"
    }
   },
   "outputs": [],
   "source": [
    "class List(list):\n",
    "    name='VisVar'\n",
    "    pass\n",
    "\n",
    "libvis.interface.add_serializer(List, ref)\n",
    "def ser_type(value):\n",
    "    return json.dumps({'value':value})\n",
    "    return str(value)\n",
    "vis.app.serialize_value = ser_type\n",
    "\n",
    "li = List()\n",
    "\n"
   ]
  },
  {
   "cell_type": "code",
   "execution_count": 7,
   "metadata": {
    "ExecuteTime": {
     "end_time": "2020-05-15T07:02:41.254328Z",
     "start_time": "2020-05-15T07:02:41.139117Z"
    }
   },
   "outputs": [
    {
     "name": "stdout",
     "output_type": "stream",
     "text": [
      "2020-05-15 02:02:41.257 | ERROR    | legimens.App:_handler:89 - Handling <class 'trio_websocket._impl.ConnectionClosed'> error:CloseReason<code=1000, name=NORMAL_CLOSURE, reason=None>\n",
      "2020-05-15 02:02:41.267 | INFO     | legimens.App:_handler:74 - New ws connection of /Legi_0x7f303b29c9a0 from ::1\n",
      "2020-05-15 02:02:41.269 | INFO     | legimens.App:_handle_obj_ref:105 - Yield initial update {\"value\": []}\n"
     ]
    }
   ],
   "source": [
    "vis.app.watch_obj(li)\n",
    "vis.vars.x = li"
   ]
  },
  {
   "cell_type": "code",
   "execution_count": 12,
   "metadata": {
    "ExecuteTime": {
     "end_time": "2020-05-15T07:02:46.618131Z",
     "start_time": "2020-05-15T07:02:46.509882Z"
    }
   },
   "outputs": [],
   "source": [
    "li.append(len(li))"
   ]
  },
  {
   "cell_type": "code",
   "execution_count": 15,
   "metadata": {
    "ExecuteTime": {
     "end_time": "2020-05-15T07:02:52.236851Z",
     "start_time": "2020-05-15T07:02:52.131446Z"
    }
   },
   "outputs": [
    {
     "data": {
      "text/plain": [
       "2"
      ]
     },
     "execution_count": 15,
     "metadata": {},
     "output_type": "execute_result"
    },
    {
     "name": "stdout",
     "output_type": "stream",
     "text": [
      "2020-05-15 13:34:34.759 | ERROR    | legimens.App:_handler:89 - Handling <class 'trio_websocket._impl.ConnectionClosed'> error:CloseReason<code=1001, name=GOING_AWAY, reason=None>\n",
      "2020-05-15 13:34:34.766 | ERROR    | legimens.App:_handler:89 - Handling <class 'trio_websocket._impl.ConnectionClosed'> error:CloseReason<code=1001, name=GOING_AWAY, reason=None>\n"
     ]
    }
   ],
   "source": [
    "li.pop()"
   ]
  },
  {
   "cell_type": "markdown",
   "metadata": {},
   "source": [
    "Values should be instantly updated in x variable"
   ]
  },
  {
   "cell_type": "markdown",
   "metadata": {},
   "source": [
    "## Prettified API"
   ]
  },
  {
   "cell_type": "code",
   "execution_count": 12,
   "metadata": {
    "ExecuteTime": {
     "end_time": "2020-05-18T02:05:37.522918Z",
     "start_time": "2020-05-18T02:05:37.505562Z"
    }
   },
   "outputs": [],
   "source": [
    "import time"
   ]
  },
  {
   "cell_type": "code",
   "execution_count": 4,
   "metadata": {
    "ExecuteTime": {
     "end_time": "2020-05-18T02:03:49.492352Z",
     "start_time": "2020-05-18T02:03:49.459587Z"
    }
   },
   "outputs": [
    {
     "data": {
      "text/plain": [
       "'Legi_0x7fabf2de57c0'"
      ]
     },
     "execution_count": 4,
     "metadata": {},
     "output_type": "execute_result"
    }
   ],
   "source": [
    "x = [10]\n",
    "\n",
    "vis.watch(x, 'x')"
   ]
  },
  {
   "cell_type": "code",
   "execution_count": 37,
   "metadata": {
    "ExecuteTime": {
     "end_time": "2020-05-18T03:01:13.165236Z",
     "start_time": "2020-05-18T03:01:03.103800Z"
    }
   },
   "outputs": [
    {
     "name": "stdout",
     "output_type": "stream",
     "text": [
      "2020-05-17 22:01:04.734 | ERROR    | legimens.App:_handler:91 - Handling <class 'trio_websocket._impl.ConnectionClosed'> error:CloseReason<code=1001, name=GOING_AWAY, reason=None>\n",
      "2020-05-17 22:01:04.736 | ERROR    | legimens.App:_handler:91 - Handling <class 'trio_websocket._impl.ConnectionClosed'> error:CloseReason<code=1001, name=GOING_AWAY, reason=None>\n",
      "2020-05-17 22:01:04.738 | ERROR    | legimens.App:_handler:91 - Handling <class 'trio_websocket._impl.ConnectionClosed'> error:CloseReason<code=1001, name=GOING_AWAY, reason=None>\n",
      "2020-05-17 22:01:04.739 | ERROR    | legimens.App:_handler:91 - Handling <class 'trio_websocket._impl.ConnectionClosed'> error:CloseReason<code=1001, name=GOING_AWAY, reason=None>\n",
      "2020-05-17 22:01:06.258 | INFO     | legimens.App:_handler:76 - New ws connection of / from ::1\n",
      "2020-05-17 22:01:06.259 | INFO     | legimens.App:_handler:88 - Sending root Legi_0x7fabf2e0aae0\n",
      "2020-05-17 22:01:06.295 | INFO     | legimens.App:_handler:76 - New ws connection of /undefined from ::1\n",
      "2020-05-17 22:01:06.301 | ERROR    | legimens.App:_handle_obj_ref:98 - No child with ref undefined\n",
      "2020-05-17 22:01:06.989 | INFO     | legimens.App:_handler:76 - New ws connection of /Legi_0x7fabf2e0aae0 from ::1\n",
      "2020-05-17 22:01:06.993 | INFO     | legimens.App:_handle_obj_ref:107 - Yield initial update {\"image\": {\"value\": 1, \"type\": \"raw\"}, \"x\": {\"value\": \"Legi_0x7fabf2de57c0\", \"type\": \"VisVar\"}}\n",
      "2020-05-17 22:01:07.470 | INFO     | legimens.App:_handler:76 - New ws connection of /Legi_0x7fabf2de57c0 from ::1\n",
      "2020-05-17 22:01:07.472 | INFO     | legimens.App:_handle_obj_ref:107 - Yield initial update {\"body\": {\"value\": [0, 1, 2, 3, 4, 5, 6, 7, 8, 9, 10, 11, 12, 13, 14, 15, 16, 17, 18, 19, 20, 21, 22, 23, 24, 25, 26, 27, 28, 29, 30, 31, 32, 33, 34, 35, 36, 37, 38, 39, 40, 41, 42, 43], \"type\": \"raw\"}}\n"
     ]
    }
   ],
   "source": [
    "for i in range(100):\n",
    "    x.append(i)\n",
    "    time.sleep(.1)"
   ]
  },
  {
   "cell_type": "code",
   "execution_count": 38,
   "metadata": {
    "ExecuteTime": {
     "end_time": "2020-05-18T03:01:17.587116Z",
     "start_time": "2020-05-18T03:01:17.570605Z"
    }
   },
   "outputs": [
    {
     "name": "stdout",
     "output_type": "stream",
     "text": [
      "2020-05-17 22:33:28.593 | ERROR    | legimens.App:_handler:91 - Handling <class 'trio_websocket._impl.ConnectionClosed'> error:CloseReason<code=1001, name=GOING_AWAY, reason=None>\n",
      "2020-05-17 22:33:28.604 | ERROR    | legimens.App:_handler:91 - Handling <class 'trio_websocket._impl.ConnectionClosed'> error:CloseReason<code=1001, name=GOING_AWAY, reason=None>\n",
      "2020-05-17 22:33:29.582 | INFO     | legimens.App:_handler:76 - New ws connection of / from ::1\n",
      "2020-05-17 22:33:29.583 | INFO     | legimens.App:_handler:88 - Sending root Legi_0x7fabf2e0aae0\n",
      "2020-05-17 22:33:29.610 | INFO     | legimens.App:_handler:76 - New ws connection of /undefined from ::1\n",
      "2020-05-17 22:33:29.620 | ERROR    | legimens.App:_handle_obj_ref:98 - No child with ref undefined\n",
      "2020-05-17 22:33:29.953 | INFO     | legimens.App:_handler:76 - New ws connection of /Legi_0x7fabf2e0aae0 from ::1\n",
      "2020-05-17 22:33:29.954 | INFO     | legimens.App:_handle_obj_ref:107 - Yield initial update {\"image\": {\"value\": 1, \"type\": \"raw\"}, \"x\": {\"value\": \"Legi_0x7fabf2de57c0\", \"type\": \"VisVar\"}}\n",
      "2020-05-17 22:34:25.586 | ERROR    | legimens.App:_handler:91 - Handling <class 'trio_websocket._impl.ConnectionClosed'> error:CloseReason<code=1000, name=NORMAL_CLOSURE, reason=None>\n",
      "2020-05-17 22:34:31.827 | INFO     | legimens.App:_handler:76 - New ws connection of / from ::1\n",
      "2020-05-17 22:34:31.829 | INFO     | legimens.App:_handler:88 - Sending root Legi_0x7fabf2e0aae0\n",
      "2020-05-17 22:34:31.853 | INFO     | legimens.App:_handler:76 - New ws connection of /undefined from ::1\n",
      "2020-05-17 22:34:31.857 | ERROR    | legimens.App:_handle_obj_ref:98 - No child with ref undefined\n",
      "2020-05-17 22:34:32.290 | INFO     | legimens.App:_handler:76 - New ws connection of /Legi_0x7fabf2e0aae0 from ::1\n",
      "2020-05-17 22:34:32.291 | INFO     | legimens.App:_handle_obj_ref:107 - Yield initial update {\"image\": {\"value\": 1, \"type\": \"raw\"}, \"x\": {\"value\": \"Legi_0x7fabf2de57c0\", \"type\": \"VisVar\"}}\n",
      "2020-05-17 22:34:34.659 | ERROR    | legimens.App:_handler:91 - Handling <class 'trio_websocket._impl.ConnectionClosed'> error:CloseReason<code=1000, name=NORMAL_CLOSURE, reason=None>\n",
      "2020-05-17 22:36:09.089 | INFO     | legimens.App:_handler:76 - New ws connection of / from ::1\n",
      "2020-05-17 22:36:09.091 | INFO     | legimens.App:_handler:88 - Sending root Legi_0x7fabf2e0aae0\n",
      "2020-05-17 22:36:09.122 | INFO     | legimens.App:_handler:76 - New ws connection of /undefined from ::1\n",
      "2020-05-17 22:36:09.123 | ERROR    | legimens.App:_handle_obj_ref:98 - No child with ref undefined\n",
      "2020-05-17 22:36:10.065 | INFO     | legimens.App:_handler:76 - New ws connection of /Legi_0x7fabf2e0aae0 from ::1\n",
      "2020-05-17 22:36:10.071 | INFO     | legimens.App:_handle_obj_ref:107 - Yield initial update {\"image\": {\"value\": 1, \"type\": \"raw\"}, \"x\": {\"value\": \"Legi_0x7fabf2de57c0\", \"type\": \"VisVar\"}}\n",
      "2020-05-17 22:36:15.314 | ERROR    | legimens.App:_handler:91 - Handling <class 'trio_websocket._impl.ConnectionClosed'> error:CloseReason<code=1000, name=NORMAL_CLOSURE, reason=None>\n",
      "2020-05-17 22:37:18.609 | INFO     | legimens.App:_handler:76 - New ws connection of / from ::1\n",
      "2020-05-17 22:37:18.610 | INFO     | legimens.App:_handler:88 - Sending root Legi_0x7fabf2e0aae0\n",
      "2020-05-17 22:37:18.635 | INFO     | legimens.App:_handler:76 - New ws connection of /undefined from ::1\n",
      "2020-05-17 22:37:18.637 | ERROR    | legimens.App:_handle_obj_ref:98 - No child with ref undefined\n",
      "2020-05-17 22:37:18.958 | INFO     | legimens.App:_handler:76 - New ws connection of /Legi_0x7fabf2e0aae0 from ::1\n",
      "2020-05-17 22:37:18.961 | INFO     | legimens.App:_handle_obj_ref:107 - Yield initial update {\"image\": {\"value\": 1, \"type\": \"raw\"}, \"x\": {\"value\": \"Legi_0x7fabf2de57c0\", \"type\": \"VisVar\"}}\n",
      "2020-05-17 22:37:19.685 | INFO     | legimens.App:_handler:76 - New ws connection of /Legi_0x7fabf2de57c0 from ::1\n",
      "2020-05-17 22:37:19.686 | INFO     | legimens.App:_handle_obj_ref:107 - Yield initial update {\"body\": {\"value\": [], \"type\": \"raw\"}}\n",
      "2020-05-17 22:37:22.195 | ERROR    | legimens.App:_handler:91 - Handling <class 'trio_websocket._impl.ConnectionClosed'> error:CloseReason<code=1001, name=GOING_AWAY, reason=None>\n",
      "2020-05-17 22:37:22.196 | ERROR    | legimens.App:_handler:91 - Handling <class 'trio_websocket._impl.ConnectionClosed'> error:CloseReason<code=1001, name=GOING_AWAY, reason=None>\n",
      "2020-05-17 22:37:23.730 | INFO     | legimens.App:_handler:76 - New ws connection of / from ::1\n",
      "2020-05-17 22:37:23.734 | INFO     | legimens.App:_handler:88 - Sending root Legi_0x7fabf2e0aae0\n",
      "2020-05-17 22:37:23.755 | INFO     | legimens.App:_handler:76 - New ws connection of /undefined from ::1\n",
      "2020-05-17 22:37:23.756 | ERROR    | legimens.App:_handle_obj_ref:98 - No child with ref undefined\n",
      "2020-05-17 22:37:24.093 | INFO     | legimens.App:_handler:76 - New ws connection of /Legi_0x7fabf2e0aae0 from ::1\n",
      "2020-05-17 22:37:24.095 | INFO     | legimens.App:_handle_obj_ref:107 - Yield initial update {\"image\": {\"value\": 1, \"type\": \"raw\"}, \"x\": {\"value\": \"Legi_0x7fabf2de57c0\", \"type\": \"VisVar\"}}\n",
      "2020-05-17 22:37:24.750 | INFO     | legimens.App:_handler:76 - New ws connection of /Legi_0x7fabf2de57c0 from ::1\n",
      "2020-05-17 22:37:24.760 | INFO     | legimens.App:_handle_obj_ref:107 - Yield initial update {\"body\": {\"value\": [], \"type\": \"raw\"}}\n",
      "2020-05-17 22:37:32.597 | ERROR    | legimens.App:_handler:91 - Handling <class 'trio_websocket._impl.ConnectionClosed'> error:CloseReason<code=1001, name=GOING_AWAY, reason=None>\n",
      "2020-05-17 22:37:32.599 | ERROR    | legimens.App:_handler:91 - Handling <class 'trio_websocket._impl.ConnectionClosed'> error:CloseReason<code=1001, name=GOING_AWAY, reason=None>\n",
      "2020-05-17 22:37:58.834 | INFO     | legimens.App:_handler:76 - New ws connection of / from ::1\n",
      "2020-05-17 22:37:58.835 | INFO     | legimens.App:_handler:88 - Sending root Legi_0x7fabf2e0aae0\n",
      "2020-05-17 22:37:58.854 | INFO     | legimens.App:_handler:76 - New ws connection of /undefined from ::1\n",
      "2020-05-17 22:37:58.856 | ERROR    | legimens.App:_handle_obj_ref:98 - No child with ref undefined\n",
      "2020-05-17 22:37:59.715 | INFO     | legimens.App:_handler:76 - New ws connection of /Legi_0x7fabf2e0aae0 from ::1\n",
      "2020-05-17 22:37:59.720 | INFO     | legimens.App:_handle_obj_ref:107 - Yield initial update {\"image\": {\"value\": 1, \"type\": \"raw\"}, \"x\": {\"value\": \"Legi_0x7fabf2de57c0\", \"type\": \"VisVar\"}}\n",
      "2020-05-17 22:38:00.051 | INFO     | legimens.App:_handler:76 - New ws connection of /Legi_0x7fabf2de57c0 from ::1\n",
      "2020-05-17 22:38:00.052 | INFO     | legimens.App:_handle_obj_ref:107 - Yield initial update {\"body\": {\"value\": [], \"type\": \"raw\"}}\n"
     ]
    }
   ],
   "source": [
    "for _ in range(100):\n",
    "    x.pop()"
   ]
  },
  {
   "cell_type": "code",
   "execution_count": 22,
   "metadata": {
    "ExecuteTime": {
     "end_time": "2020-05-18T02:56:11.455807Z",
     "start_time": "2020-05-18T02:56:11.363034Z"
    }
   },
   "outputs": [],
   "source": [
    "list(vis.app._child_obj.keys())\n",
    "vis.vars\n",
    "vis.app._watch_poll_delay = .2"
   ]
  },
  {
   "cell_type": "code",
   "execution_count": 39,
   "metadata": {
    "ExecuteTime": {
     "end_time": "2020-05-18T03:38:21.572492Z",
     "start_time": "2020-05-18T03:38:19.848607Z"
    }
   },
   "outputs": [
    {
     "name": "stdout",
     "output_type": "stream",
     "text": [
      "2020-05-17 22:38:21.035 | INFO     | legimens.App:_start:197 - App crashed.\n"
     ]
    },
    {
     "name": "stderr",
     "output_type": "stream",
     "text": [
      "Exception in thread Thread-4:\n",
      "Traceback (most recent call last):\n",
      "  File \"/usr/lib/python3.8/threading.py\", line 932, in _bootstrap_inner\n",
      "    self.run()\n",
      "  File \"/usr/lib/python3.8/threading.py\", line 870, in run\n",
      "    self._target(*self._args, **self._kwargs)\n",
      "  File \"/usr/lib/python3.8/site-packages/trio/_core/_run.py\", line 1804, in run\n",
      "    raise runner.main_task_outcome.error\n",
      "  File \"/home/dali/side-projects-hobby/legimens/python/legimens/App.py\", line 194, in _start\n",
      "    nursery.start_soon(self._poll_objects)\n",
      "  File \"/usr/lib/python3.8/site-packages/trio/_core/_run.py\", line 730, in __aexit__\n",
      "    raise combined_error_from_nursery\n",
      "  File \"/home/dali/side-projects-hobby/legimens/python/legimens/App.py\", line 162, in _monitor_updates\n",
      "    message = json.dumps(updates)\n",
      "  File \"/usr/lib/python3.8/json/__init__.py\", line 231, in dumps\n",
      "    return _default_encoder.encode(obj)\n",
      "  File \"/usr/lib/python3.8/json/encoder.py\", line 199, in encode\n",
      "    chunks = self.iterencode(o, _one_shot=True)\n",
      "  File \"/usr/lib/python3.8/json/encoder.py\", line 257, in iterencode\n",
      "    return _iterencode(o, 0)\n",
      "  File \"/usr/lib/python3.8/json/encoder.py\", line 179, in default\n",
      "    raise TypeError(f'Object of type {o.__class__.__name__} '\n",
      "TypeError: Object of type type is not JSON serializable\n"
     ]
    },
    {
     "name": "stdout",
     "output_type": "stream",
     "text": [
      "Stopping app server\n",
      "Stopping websocket server\n"
     ]
    }
   ],
   "source": [
    "vis.stop()"
   ]
  }
 ],
 "metadata": {
  "kernelspec": {
   "display_name": "Python 3",
   "language": "python",
   "name": "python3"
  },
  "language_info": {
   "codemirror_mode": {
    "name": "ipython",
    "version": 3
   },
   "file_extension": ".py",
   "mimetype": "text/x-python",
   "name": "python",
   "nbconvert_exporter": "python",
   "pygments_lexer": "ipython3",
   "version": "3.8.2"
  },
  "toc": {
   "base_numbering": 1,
   "nav_menu": {},
   "number_sections": true,
   "sideBar": true,
   "skip_h1_title": false,
   "title_cell": "Table of Contents",
   "title_sidebar": "Contents",
   "toc_cell": true,
   "toc_position": {
    "height": "calc(100% - 180px)",
    "left": "10px",
    "top": "150px",
    "width": "165px"
   },
   "toc_section_display": true,
   "toc_window_display": false
  }
 },
 "nbformat": 4,
 "nbformat_minor": 2
}
