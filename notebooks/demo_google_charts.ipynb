{
 "cells": [
  {
   "cell_type": "code",
   "execution_count": 2,
   "metadata": {},
   "outputs": [],
   "source": [
    "from libvis.modules import google_charts\n",
    "import libvis"
   ]
  },
  {
   "cell_type": "code",
   "execution_count": 4,
   "metadata": {
    "collapsed": true
   },
   "outputs": [
    {
     "name": "stdout",
     "output_type": "stream",
     "text": [
      "Starting http at 7000\n",
      "2020-01-23 13:32:43.927 | INFO     | legimens.websocket.server:start_server:33 - Starting ws server at localhost:7700\n",
      "2020-01-23 13:32:54.868 | INFO     | legimens.App:_handler:79 - New ws connection of / from ::1\n",
      "2020-01-23 13:32:54.870 | INFO     | legimens.App:_handler:91 - Sending root Legi_0x7f15eda71258\n",
      "2020-01-23 13:32:54.924 | ERROR    | legimens.App:_handler:94 - Handling <class 'OSError'> error:[Errno 107] Transport endpoint is not connected\n",
      "2020-01-23 13:32:55.106 | INFO     | legimens.App:_handler:79 - New ws connection of /Legi_0x7f15eda71258 from ::1\n",
      "2020-01-23 13:32:55.161 | INFO     | legimens.App:_handler:79 - New ws connection of /Legi_0x7f15eda71200 from ::1\n",
      "2020-01-23 13:32:55.163 | INFO     | legimens.App:_handle_obj_ref:113 - Yield initial update dict_keys(['data', 'title', 'hAxis', 'vAxis', 'type'])\n"
     ]
    }
   ],
   "source": [
    "vis = libvis.Vis()\n",
    "vis.start()\n",
    "\n",
    "vis.vars.bubble = google_charts.BubbleChart() \n"
   ]
  },
  {
   "cell_type": "code",
   "execution_count": 5,
   "metadata": {
    "collapsed": true
   },
   "outputs": [
    {
     "name": "stdout",
     "output_type": "stream",
     "text": [
      "2020-01-23 13:33:36.832 | INFO     | legimens.App:_handler:79 - New ws connection of /Legi_0x7f15edb2fa98 from ::1\n",
      "2020-01-23 13:33:36.835 | INFO     | legimens.App:_handle_obj_ref:113 - Yield initial update dict_keys(['data', 'title', 'hAxis', 'type'])\n"
     ]
    }
   ],
   "source": [
    "vis.vars.area = google_charts.google_charts()"
   ]
  },
  {
   "cell_type": "code",
   "execution_count": 26,
   "metadata": {},
   "outputs": [],
   "source": [
    "import numpy as np\n",
    "import time\n",
    "\n",
    "area = vis.vars.area"
   ]
  },
  {
   "cell_type": "code",
   "execution_count": 36,
   "metadata": {},
   "outputs": [
    {
     "name": "stdout",
     "output_type": "stream",
     "text": [
      "Column names: ['X', 'Bar', 'Baz']\n"
     ]
    }
   ],
   "source": [
    "area.data = area.data[:1]\n",
    "print(\"Column names:\", area.data[0])\n",
    "\n",
    "for x in range(0, 25):\n",
    "    vis.vars.iteration = x\n",
    "    area.data += [[x, np.random.randn(), np.random.randn()]]\n",
    "    time.sleep(.2)"
   ]
  },
  {
   "cell_type": "code",
   "execution_count": 37,
   "metadata": {},
   "outputs": [],
   "source": [
    "vis.vars.iteration = 'Hello world'"
   ]
  }
 ],
 "metadata": {
  "kernelspec": {
   "display_name": "Python 3",
   "language": "python",
   "name": "python3"
  },
  "language_info": {
   "codemirror_mode": {
    "name": "ipython",
    "version": 3
   },
   "file_extension": ".py",
   "mimetype": "text/x-python",
   "name": "python",
   "nbconvert_exporter": "python",
   "pygments_lexer": "ipython3",
   "version": "3.7.3"
  }
 },
 "nbformat": 4,
 "nbformat_minor": 2
}
