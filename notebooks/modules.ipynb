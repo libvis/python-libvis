{
 "cells": [
  {
   "cell_type": "code",
   "execution_count": 1,
   "metadata": {},
   "outputs": [
    {
     "name": "stdout",
     "output_type": "stream",
     "text": [
      "path /home/dali/side-projects-hobby/pywebviz/python/webvis/__init__.py\n"
     ]
    }
   ],
   "source": [
    "from webvis import Vis\n",
    "import webvis_mods as vismods\n",
    "import os\n",
    "os.makedirs('webpage_module', exist_ok=True)\n",
    "\n",
    "%load_ext autoreload\n",
    "%autoreload 2"
   ]
  },
  {
   "cell_type": "code",
   "execution_count": 2,
   "metadata": {},
   "outputs": [
    {
     "name": "stdout",
     "output_type": "stream",
     "text": [
      "Overwriting webpage_module/back.py\n"
     ]
    }
   ],
   "source": [
    "%%writefile webpage_module/back.py\n",
    "from webvis.modules import BaseModule\n",
    "import json\n",
    "\n",
    "class WebPage(BaseModule):\n",
    "    name=\"WebPage\"\n",
    "    def serial(self):\n",
    "        return json.dumps({'addr':self.address})"
   ]
  },
  {
   "cell_type": "code",
   "execution_count": 3,
   "metadata": {},
   "outputs": [
    {
     "name": "stdout",
     "output_type": "stream",
     "text": [
      "Overwriting webpage_module/front.coffee\n"
     ]
    }
   ],
   "source": [
    "%%writefile webpage_module/front.coffee\n",
    "\n",
    "import React from 'react'\n",
    "import L from 'react-dom-factories'\n",
    "L_ = React.createElement\n",
    "\n",
    "export default Vis = ({data, setattr})->\n",
    "    {addr} = data\n",
    "    L.div style:display:'contents',\n",
    "        \"Webpage #{addr}\"\n",
    "        L.input type:'text', onChange:(e)=>\n",
    "                setattr 'text', e.target.value\n",
    "        L.iframe src:addr\n"
   ]
  },
  {
   "cell_type": "code",
   "execution_count": 4,
   "metadata": {
    "scrolled": false
   },
   "outputs": [],
   "source": [
    "vismods.install_mod(\n",
    "    'webpage_module/back.py',\n",
    "    'webpage_module/front.coffee',\n",
    "    'WebPage'\n",
    ")"
   ]
  },
  {
   "cell_type": "code",
   "execution_count": null,
   "metadata": {},
   "outputs": [],
   "source": []
  },
  {
   "cell_type": "code",
   "execution_count": 5,
   "metadata": {},
   "outputs": [
    {
     "name": "stdout",
     "output_type": "stream",
     "text": [
      "Starting http at 7000\n",
      "2019-12-22 00:37:42.759 | INFO     | hosta.websocket.server:start_server:33 - Starting ws server at localhost:7700\n"
     ]
    }
   ],
   "source": [
    "vis = Vis()\n"
   ]
  },
  {
   "cell_type": "code",
   "execution_count": 6,
   "metadata": {},
   "outputs": [],
   "source": [
    "from webvis.modules import WebPage\n",
    "page = WebPage()\n",
    "vis.vars.page = page"
   ]
  },
  {
   "cell_type": "code",
   "execution_count": 7,
   "metadata": {},
   "outputs": [
    {
     "name": "stdout",
     "output_type": "stream",
     "text": [
      "Client requested path /\n",
      "Client requested path /index.bundle.js\n"
     ]
    },
    {
     "name": "stderr",
     "output_type": "stream",
     "text": [
      "127.0.0.1 - - [22/Dec/2019 00:37:47] \"GET / HTTP/1.1\" 200 -\n",
      "127.0.0.1 - - [22/Dec/2019 00:37:47] \"GET /index.bundle.js?07c9958c23bab1b7997f HTTP/1.1\" 200 -\n"
     ]
    },
    {
     "name": "stdout",
     "output_type": "stream",
     "text": [
      "2019-12-22 00:37:47.719 | INFO     | hosta.Happ:_handler:47 - New connection from /\n",
      "2019-12-22 00:37:47.805 | INFO     | hosta.Happ:_handler:47 - New connection from /Hobj_0x7fbd487c00f8\n",
      "2019-12-22 00:37:47.912 | INFO     | hosta.Happ:_handler:47 - New connection from /Hobj_0x7fbd48806938\n"
     ]
    }
   ],
   "source": [
    "page.address = 'http://lykov.tech'"
   ]
  },
  {
   "cell_type": "code",
   "execution_count": 9,
   "metadata": {},
   "outputs": [],
   "source": [
    "#vis.show()"
   ]
  },
  {
   "cell_type": "code",
   "execution_count": 8,
   "metadata": {},
   "outputs": [
    {
     "name": "stdout",
     "output_type": "stream",
     "text": [
      "All variables: {'page': {'address': 'http://lykov.tech'}}\n",
      "Page data sent to presenter: {\"addr\": \"http://lykov.tech\"}\n"
     ]
    }
   ],
   "source": [
    "print('All variables:',vis.vars)\n",
    "print('Page data sent to presenter:',page.serial())"
   ]
  },
  {
   "cell_type": "code",
   "execution_count": 9,
   "metadata": {},
   "outputs": [
    {
     "data": {
      "text/plain": [
       "{'address': 'http://lykov.tech'}"
      ]
     },
     "execution_count": 9,
     "metadata": {},
     "output_type": "execute_result"
    }
   ],
   "source": [
    "page"
   ]
  },
  {
   "cell_type": "code",
   "execution_count": 10,
   "metadata": {},
   "outputs": [
    {
     "data": {
      "text/plain": [
       "{'address': 'http://lykov.tech', 'text': 'test input', '_touched': True}"
      ]
     },
     "execution_count": 10,
     "metadata": {},
     "output_type": "execute_result"
    }
   ],
   "source": [
    "page"
   ]
  },
  {
   "cell_type": "code",
   "execution_count": 12,
   "metadata": {},
   "outputs": [
    {
     "data": {
      "text/plain": [
       "{'address': 'http://lykov.tech',\n",
       " 'text': 'test input from server. Live.',\n",
       " '_touched': True}"
      ]
     },
     "execution_count": 12,
     "metadata": {},
     "output_type": "execute_result"
    }
   ],
   "source": [
    "page"
   ]
  }
 ],
 "metadata": {
  "kernelspec": {
   "display_name": "Python 3",
   "language": "python",
   "name": "python3"
  },
  "language_info": {
   "codemirror_mode": {
    "name": "ipython",
    "version": 3
   },
   "file_extension": ".py",
   "mimetype": "text/x-python",
   "name": "python",
   "nbconvert_exporter": "python",
   "pygments_lexer": "ipython3",
   "version": "3.7.3"
  }
 },
 "nbformat": 4,
 "nbformat_minor": 2
}
